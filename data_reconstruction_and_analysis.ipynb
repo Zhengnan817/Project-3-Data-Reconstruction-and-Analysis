{
 "cells": [
  {
   "cell_type": "markdown",
   "metadata": {},
   "source": [
    "<font size=\"12\">Project-3: Data Reconstruction & Analysis</font>"
   ]
  },
  {
   "cell_type": "markdown",
   "metadata": {},
   "source": [
    "<li><font size=\"4\">Class:DAV 5400 Analytics Programming</font>\n",
    "<li><font size=\"4\">Director:Stefanie Molin </font>\n",
    "<li><font size=\"4\">Author:Zhengnan Li </font>\n",
    "<li><font size=\"4\">Student Id: 800763534 </font>"
   ]
  },
  {
   "cell_type": "markdown",
   "metadata": {},
   "source": [
    "<font size=\"6\">1. Introduction </font>"
   ]
  },
  {
   "cell_type": "markdown",
   "metadata": {},
   "source": [
    "In this project. I plan to use the dataset of chip of GPU and CPU to analyse the relationship between chip size, Process Size and frequency,etc. The dataset is found in heywhale and you can see it from here:\n",
    "\n",
    "[Chip of CPU and GPU](https://www.heywhale.com/mw/dataset/64dc9b5000151985794c41a9/content)"
   ]
  },
  {
   "cell_type": "markdown",
   "metadata": {},
   "source": [
    "This dataset consists of many kinds of Product in different attributes. My research will be useful for those who are interested in chip development situation. More precisely for the people who want to see summary of the currently chip and their size, performance, transistors and frequency etc. So they can know the relationship between different product and attributes, Which benefits a lot because the customer can choose the product suitable for them and the developer can figure out what they need to improve.What's more they can compare them in different vendors and choose the right product they want.\n",
    "\n",
    "The purpose of the analysis are as followes:\n",
    "<ol>\n",
    "<li>  Observe the product number of different vendors\n",
    "<li>  Observe the influences of chip process size to Frequency\n",
    "<li>  Observe the relationship between transister and frequency"
   ]
  },
  {
   "cell_type": "markdown",
   "metadata": {},
   "source": [
    "<font size=\"6\">2. Data Summary </font>"
   ]
  },
  {
   "cell_type": "markdown",
   "metadata": {},
   "source": [
    "**We will use the package as follows**\n",
    "<li>Pandas: Data manipulation and analysis library.\n",
    "<li>Numpy: Numerical computing library.\n",
    "<li>Matplotlib: Data visualization library.\n",
    "<li>Seaborn: Statistical data visualization library."
   ]
  },
  {
   "cell_type": "markdown",
   "metadata": {},
   "source": [
    "**View the chip table**"
   ]
  },
  {
   "cell_type": "code",
   "execution_count": 2,
   "metadata": {},
   "outputs": [
    {
     "data": {
      "text/html": [
       "<div>\n",
       "<style scoped>\n",
       "    .dataframe tbody tr th:only-of-type {\n",
       "        vertical-align: middle;\n",
       "    }\n",
       "\n",
       "    .dataframe tbody tr th {\n",
       "        vertical-align: top;\n",
       "    }\n",
       "\n",
       "    .dataframe thead th {\n",
       "        text-align: right;\n",
       "    }\n",
       "</style>\n",
       "<table border=\"1\" class=\"dataframe\">\n",
       "  <thead>\n",
       "    <tr style=\"text-align: right;\">\n",
       "      <th></th>\n",
       "      <th>Product</th>\n",
       "      <th>Type</th>\n",
       "      <th>Release Date</th>\n",
       "      <th>Process Size</th>\n",
       "      <th>TDP</th>\n",
       "      <th>Die Size</th>\n",
       "      <th>Transistors</th>\n",
       "      <th>Freq</th>\n",
       "      <th>Vendor</th>\n",
       "    </tr>\n",
       "  </thead>\n",
       "  <tbody>\n",
       "    <tr>\n",
       "      <th>0</th>\n",
       "      <td>AMD Athlon 64 3500+</td>\n",
       "      <td>CPU</td>\n",
       "      <td>2/20/07</td>\n",
       "      <td>65</td>\n",
       "      <td>45</td>\n",
       "      <td>77.0</td>\n",
       "      <td>122</td>\n",
       "      <td>2200</td>\n",
       "      <td>AMD</td>\n",
       "    </tr>\n",
       "    <tr>\n",
       "      <th>1</th>\n",
       "      <td>AMD Athlon 200GE</td>\n",
       "      <td>CPU</td>\n",
       "      <td>9/6/18</td>\n",
       "      <td>14</td>\n",
       "      <td>35</td>\n",
       "      <td>192.0</td>\n",
       "      <td>4800</td>\n",
       "      <td>3200</td>\n",
       "      <td>AMD</td>\n",
       "    </tr>\n",
       "    <tr>\n",
       "      <th>2</th>\n",
       "      <td>Intel Xeon E5-2603 v2</td>\n",
       "      <td>CPU</td>\n",
       "      <td>9/1/13</td>\n",
       "      <td>22</td>\n",
       "      <td>80</td>\n",
       "      <td>160.0</td>\n",
       "      <td>1400</td>\n",
       "      <td>1800</td>\n",
       "      <td>Intel</td>\n",
       "    </tr>\n",
       "    <tr>\n",
       "      <th>3</th>\n",
       "      <td>AMD Phenom II X4 980 BE</td>\n",
       "      <td>CPU</td>\n",
       "      <td>5/3/11</td>\n",
       "      <td>45</td>\n",
       "      <td>125</td>\n",
       "      <td>258.0</td>\n",
       "      <td>758</td>\n",
       "      <td>3700</td>\n",
       "      <td>AMD</td>\n",
       "    </tr>\n",
       "    <tr>\n",
       "      <th>4</th>\n",
       "      <td>Intel Xeon E5-2470 v2</td>\n",
       "      <td>CPU</td>\n",
       "      <td>9/1/13</td>\n",
       "      <td>22</td>\n",
       "      <td>95</td>\n",
       "      <td>160.0</td>\n",
       "      <td>1400</td>\n",
       "      <td>2400</td>\n",
       "      <td>Intel</td>\n",
       "    </tr>\n",
       "  </tbody>\n",
       "</table>\n",
       "</div>"
      ],
      "text/plain": [
       "                   Product Type Release Date  Process Size  TDP  Die Size  \\\n",
       "0      AMD Athlon 64 3500+  CPU      2/20/07            65   45      77.0   \n",
       "1         AMD Athlon 200GE  CPU       9/6/18            14   35     192.0   \n",
       "2    Intel Xeon E5-2603 v2  CPU       9/1/13            22   80     160.0   \n",
       "3  AMD Phenom II X4 980 BE  CPU       5/3/11            45  125     258.0   \n",
       "4    Intel Xeon E5-2470 v2  CPU       9/1/13            22   95     160.0   \n",
       "\n",
       "   Transistors  Freq Vendor  \n",
       "0          122  2200    AMD  \n",
       "1         4800  3200    AMD  \n",
       "2         1400  1800  Intel  \n",
       "3          758  3700    AMD  \n",
       "4         1400  2400  Intel  "
      ]
     },
     "execution_count": 2,
     "metadata": {},
     "output_type": "execute_result"
    }
   ],
   "source": [
    "# Making a initialization of class\n",
    "from src.my_package.data_summary import Data_process\n",
    "\n",
    "#Put my own path here\n",
    "my_file_path = '/Users/lizhengnan/Desktop/project-3/Project-3-Data-Reconstruction-and-Analysis/src/my_package/data/chip_dataset.csv'\n",
    "cpu_table = Data_process(my_file_path )\n",
    "cpu_table.view_data()"
   ]
  },
  {
   "cell_type": "markdown",
   "metadata": {},
   "source": [
    "In order to better understand the meaning of the table. Here is the explaination of each column:\n",
    "<ol>\n",
    "<li>Product: Description of the products.\n",
    "<li>Type: Classfication of CPU and GPU.\n",
    "<li>Release Date:The date of the product publish.\n",
    "<li>Process Size (nm): The size of the features (the elements that make up the transistors) \n",
    "<li>TDP (W): \n",
    "Thermal design power is defined as the theoretical maximum amount of heat generated by a CPU or GPU \n",
    "<li>Die Size: The die size of a specific chip is the physical dimensions of a bare die\n",
    "<li>Transistors: tiny electronic switches that can be turned on or off by applying a voltage to their terminals.\n",
    "<li>Freq: The clock rate of a CPU is normally determined by the frequency of an oscillator crystal.\n",
    "<li>Vendor:The company to produce the chip"
   ]
  },
  {
   "cell_type": "markdown",
   "metadata": {},
   "source": [
    "**Data Preparation-Null values**"
   ]
  },
  {
   "cell_type": "markdown",
   "metadata": {},
   "source": [
    "Now we will check if there is any null value present in the dataset"
   ]
  },
  {
   "cell_type": "code",
   "execution_count": 3,
   "metadata": {},
   "outputs": [
    {
     "data": {
      "text/plain": [
       "Product           0\n",
       "Type              0\n",
       "Release Date      0\n",
       "Process Size      0\n",
       "TDP               0\n",
       "Die Size        132\n",
       "Transistors       0\n",
       "Freq              0\n",
       "Vendor            0\n",
       "dtype: int64"
      ]
     },
     "execution_count": 3,
     "metadata": {},
     "output_type": "execute_result"
    }
   ],
   "source": [
    "cpu_table.check_data()"
   ]
  },
  {
   "cell_type": "markdown",
   "metadata": {},
   "source": [
    "It appears that the Die Size column contains null values. We need to remove them to conduct unbiased research and reach to the right answers of each of the research question."
   ]
  },
  {
   "cell_type": "code",
   "execution_count": 4,
   "metadata": {},
   "outputs": [
    {
     "data": {
      "text/html": [
       "<div>\n",
       "<style scoped>\n",
       "    .dataframe tbody tr th:only-of-type {\n",
       "        vertical-align: middle;\n",
       "    }\n",
       "\n",
       "    .dataframe tbody tr th {\n",
       "        vertical-align: top;\n",
       "    }\n",
       "\n",
       "    .dataframe thead th {\n",
       "        text-align: right;\n",
       "    }\n",
       "</style>\n",
       "<table border=\"1\" class=\"dataframe\">\n",
       "  <thead>\n",
       "    <tr style=\"text-align: right;\">\n",
       "      <th></th>\n",
       "      <th>Product</th>\n",
       "      <th>Type</th>\n",
       "      <th>Release Date</th>\n",
       "      <th>Process Size</th>\n",
       "      <th>TDP</th>\n",
       "      <th>Die Size</th>\n",
       "      <th>Transistors</th>\n",
       "      <th>Freq</th>\n",
       "      <th>Vendor</th>\n",
       "    </tr>\n",
       "  </thead>\n",
       "  <tbody>\n",
       "    <tr>\n",
       "      <th>0</th>\n",
       "      <td>AMD Athlon 64 3500+</td>\n",
       "      <td>CPU</td>\n",
       "      <td>2/20/07</td>\n",
       "      <td>65</td>\n",
       "      <td>45</td>\n",
       "      <td>77.0</td>\n",
       "      <td>122</td>\n",
       "      <td>2200</td>\n",
       "      <td>AMD</td>\n",
       "    </tr>\n",
       "    <tr>\n",
       "      <th>1</th>\n",
       "      <td>AMD Athlon 200GE</td>\n",
       "      <td>CPU</td>\n",
       "      <td>9/6/18</td>\n",
       "      <td>14</td>\n",
       "      <td>35</td>\n",
       "      <td>192.0</td>\n",
       "      <td>4800</td>\n",
       "      <td>3200</td>\n",
       "      <td>AMD</td>\n",
       "    </tr>\n",
       "    <tr>\n",
       "      <th>2</th>\n",
       "      <td>Intel Xeon E5-2603 v2</td>\n",
       "      <td>CPU</td>\n",
       "      <td>9/1/13</td>\n",
       "      <td>22</td>\n",
       "      <td>80</td>\n",
       "      <td>160.0</td>\n",
       "      <td>1400</td>\n",
       "      <td>1800</td>\n",
       "      <td>Intel</td>\n",
       "    </tr>\n",
       "    <tr>\n",
       "      <th>3</th>\n",
       "      <td>AMD Phenom II X4 980 BE</td>\n",
       "      <td>CPU</td>\n",
       "      <td>5/3/11</td>\n",
       "      <td>45</td>\n",
       "      <td>125</td>\n",
       "      <td>258.0</td>\n",
       "      <td>758</td>\n",
       "      <td>3700</td>\n",
       "      <td>AMD</td>\n",
       "    </tr>\n",
       "    <tr>\n",
       "      <th>4</th>\n",
       "      <td>Intel Xeon E5-2470 v2</td>\n",
       "      <td>CPU</td>\n",
       "      <td>9/1/13</td>\n",
       "      <td>22</td>\n",
       "      <td>95</td>\n",
       "      <td>160.0</td>\n",
       "      <td>1400</td>\n",
       "      <td>2400</td>\n",
       "      <td>Intel</td>\n",
       "    </tr>\n",
       "    <tr>\n",
       "      <th>...</th>\n",
       "      <td>...</td>\n",
       "      <td>...</td>\n",
       "      <td>...</td>\n",
       "      <td>...</td>\n",
       "      <td>...</td>\n",
       "      <td>...</td>\n",
       "      <td>...</td>\n",
       "      <td>...</td>\n",
       "      <td>...</td>\n",
       "    </tr>\n",
       "    <tr>\n",
       "      <th>3494</th>\n",
       "      <td>ATI FirePro V7800</td>\n",
       "      <td>GPU</td>\n",
       "      <td>4/26/10</td>\n",
       "      <td>40</td>\n",
       "      <td>150</td>\n",
       "      <td>334.0</td>\n",
       "      <td>2154</td>\n",
       "      <td>700</td>\n",
       "      <td>ATI</td>\n",
       "    </tr>\n",
       "    <tr>\n",
       "      <th>3495</th>\n",
       "      <td>NVIDIA Tegra 3 GPU</td>\n",
       "      <td>GPU</td>\n",
       "      <td>11/9/11</td>\n",
       "      <td>40</td>\n",
       "      <td>20</td>\n",
       "      <td>80.0</td>\n",
       "      <td>10</td>\n",
       "      <td>416</td>\n",
       "      <td>NVIDIA</td>\n",
       "    </tr>\n",
       "    <tr>\n",
       "      <th>3496</th>\n",
       "      <td>NVIDIA Playstation 3 GPU 28nm</td>\n",
       "      <td>GPU</td>\n",
       "      <td>6/3/13</td>\n",
       "      <td>28</td>\n",
       "      <td>21</td>\n",
       "      <td>68.0</td>\n",
       "      <td>302</td>\n",
       "      <td>550</td>\n",
       "      <td>NVIDIA</td>\n",
       "    </tr>\n",
       "    <tr>\n",
       "      <th>3497</th>\n",
       "      <td>NVIDIA Quadro 3000M</td>\n",
       "      <td>GPU</td>\n",
       "      <td>2/22/11</td>\n",
       "      <td>40</td>\n",
       "      <td>75</td>\n",
       "      <td>332.0</td>\n",
       "      <td>1950</td>\n",
       "      <td>450</td>\n",
       "      <td>NVIDIA</td>\n",
       "    </tr>\n",
       "    <tr>\n",
       "      <th>3498</th>\n",
       "      <td>NVIDIA GeForce GT 320M</td>\n",
       "      <td>GPU</td>\n",
       "      <td>3/3/10</td>\n",
       "      <td>40</td>\n",
       "      <td>23</td>\n",
       "      <td>100.0</td>\n",
       "      <td>486</td>\n",
       "      <td>500</td>\n",
       "      <td>NVIDIA</td>\n",
       "    </tr>\n",
       "  </tbody>\n",
       "</table>\n",
       "<p>3367 rows × 9 columns</p>\n",
       "</div>"
      ],
      "text/plain": [
       "                            Product Type Release Date  Process Size  TDP  \\\n",
       "0               AMD Athlon 64 3500+  CPU      2/20/07            65   45   \n",
       "1                  AMD Athlon 200GE  CPU       9/6/18            14   35   \n",
       "2             Intel Xeon E5-2603 v2  CPU       9/1/13            22   80   \n",
       "3           AMD Phenom II X4 980 BE  CPU       5/3/11            45  125   \n",
       "4             Intel Xeon E5-2470 v2  CPU       9/1/13            22   95   \n",
       "...                             ...  ...          ...           ...  ...   \n",
       "3494              ATI FirePro V7800  GPU      4/26/10            40  150   \n",
       "3495             NVIDIA Tegra 3 GPU  GPU      11/9/11            40   20   \n",
       "3496  NVIDIA Playstation 3 GPU 28nm  GPU       6/3/13            28   21   \n",
       "3497            NVIDIA Quadro 3000M  GPU      2/22/11            40   75   \n",
       "3498         NVIDIA GeForce GT 320M  GPU       3/3/10            40   23   \n",
       "\n",
       "      Die Size  Transistors  Freq  Vendor  \n",
       "0         77.0          122  2200     AMD  \n",
       "1        192.0         4800  3200     AMD  \n",
       "2        160.0         1400  1800   Intel  \n",
       "3        258.0          758  3700     AMD  \n",
       "4        160.0         1400  2400   Intel  \n",
       "...        ...          ...   ...     ...  \n",
       "3494     334.0         2154   700     ATI  \n",
       "3495      80.0           10   416  NVIDIA  \n",
       "3496      68.0          302   550  NVIDIA  \n",
       "3497     332.0         1950   450  NVIDIA  \n",
       "3498     100.0          486   500  NVIDIA  \n",
       "\n",
       "[3367 rows x 9 columns]"
      ]
     },
     "execution_count": 4,
     "metadata": {},
     "output_type": "execute_result"
    }
   ],
   "source": [
    "cpu_table.remove_null()"
   ]
  },
  {
   "cell_type": "markdown",
   "metadata": {},
   "source": [
    "<font size=\"6\"> Exploratory Data Analysis </font>"
   ]
  },
  {
   "cell_type": "markdown",
   "metadata": {},
   "source": [
    "**In this stage, we will perform exploratory data analysis on the above dataset to answer the above research questions** "
   ]
  },
  {
   "cell_type": "code",
   "execution_count": null,
   "metadata": {},
   "outputs": [],
   "source": []
  }
 ],
 "metadata": {
  "kernelspec": {
   "display_name": "Python 3",
   "language": "python",
   "name": "python3"
  },
  "language_info": {
   "codemirror_mode": {
    "name": "ipython",
    "version": 3
   },
   "file_extension": ".py",
   "mimetype": "text/x-python",
   "name": "python",
   "nbconvert_exporter": "python",
   "pygments_lexer": "ipython3",
   "version": "3.11.5"
  }
 },
 "nbformat": 4,
 "nbformat_minor": 2
}
